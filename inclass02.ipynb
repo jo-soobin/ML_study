{
 "cells": [
  {
   "cell_type": "code",
   "execution_count": 18,
   "id": "9c51ce70",
   "metadata": {},
   "outputs": [
    {
     "name": "stdout",
     "output_type": "stream",
     "text": [
      "[1 2 3]\n",
      "[[1 2 3]\n",
      " [4 5 6]\n",
      " [5 6 7]]\n",
      "[[1 2]\n",
      " [2 3]]\n"
     ]
    }
   ],
   "source": [
    "import numpy as np\n",
    "\n",
    "a = np.array([1,2,3]) # 벡터\n",
    "b = np.array([[1,2,3],[4,5,6],[5,6,7]]) # 3x3 행렬\n",
    "c = np.array([[1,2],[2,3]]) # 2x2 행렬\n",
    "\n",
    "print(a)\n",
    "print(b)\n",
    "print(c)"
   ]
  },
  {
   "cell_type": "code",
   "execution_count": 24,
   "id": "8172fe20",
   "metadata": {},
   "outputs": [
    {
     "name": "stdout",
     "output_type": "stream",
     "text": [
      "1\n",
      "2\n",
      "(3,)\n",
      "(3, 3)\n",
      "(2, 2)\n",
      "3\n",
      "9\n",
      "4\n"
     ]
    }
   ],
   "source": [
    "# ndarray라는 형식의 변수\n",
    "print(a.ndim) # dimension = 차원, 1 = 벡터, 2 = 행렬\n",
    "print(b.ndim)\n",
    "\n",
    "print(a.shape) # 행\n",
    "print(b.shape) # 행, 열\n",
    "print(c.shape)\n",
    "\n",
    "print(a.size) # 전체 스칼라의 개수\n",
    "print(b.size)\n",
    "print(c.size)"
   ]
  },
  {
   "cell_type": "code",
   "execution_count": 7,
   "id": "7bdb6258",
   "metadata": {},
   "outputs": [
    {
     "name": "stdout",
     "output_type": "stream",
     "text": [
      "[[0. 0.]\n",
      " [0. 0.]\n",
      " [0. 0.]]\n",
      "[[1. 1. 1. 1.]\n",
      " [1. 1. 1. 1.]\n",
      " [1. 1. 1. 1.]]\n",
      "[[5 5 5]\n",
      " [5 5 5]]\n"
     ]
    }
   ],
   "source": [
    "x = np.zeros((3,2)) # 0으로 가득찬, 3x2 행렬\n",
    "y = np.ones((3,4)) # 1로 가득찬, 3x4 행렬\n",
    "z = np.full((2,3), 5) # 5로 가득찬, 2x3 행렬\n",
    "\n",
    "print(x)\n",
    "print(y)\n",
    "print(z)"
   ]
  },
  {
   "cell_type": "code",
   "execution_count": 17,
   "id": "7d171649",
   "metadata": {},
   "outputs": [
    {
     "name": "stdout",
     "output_type": "stream",
     "text": [
      "[0 3 6 9]\n",
      "[0. 2. 4. 6. 8.]\n"
     ]
    }
   ],
   "source": [
    "# np.arange(시작하는값, 끝나는값(디폴트 = 포함x), 증가량(디폴트 = 1))\n",
    "x = np.arange(0, 10, 3)\n",
    "\n",
    "# np.linspace(시작하는값, 끝나는값(디폴트 = 포함o), 개수)\n",
    "y = np.linspace(0, 10, 5)\n",
    "\n",
    "print(x)\n",
    "print(y)"
   ]
  },
  {
   "cell_type": "code",
   "execution_count": 29,
   "id": "46e657be",
   "metadata": {},
   "outputs": [
    {
     "name": "stdout",
     "output_type": "stream",
     "text": [
      "[0 1 2 3 4 5 6 7 8 9]\n"
     ]
    },
    {
     "ename": "ValueError",
     "evalue": "cannot reshape array of size 10 into shape (3,3)",
     "output_type": "error",
     "traceback": [
      "\u001b[1;31m---------------------------------------------------------------------------\u001b[0m",
      "\u001b[1;31mValueError\u001b[0m                                Traceback (most recent call last)",
      "\u001b[1;32m<ipython-input-29-ba5c2995d60a>\u001b[0m in \u001b[0;36m<module>\u001b[1;34m\u001b[0m\n\u001b[0;32m      2\u001b[0m \u001b[0mprint\u001b[0m\u001b[1;33m(\u001b[0m\u001b[0ma\u001b[0m\u001b[1;33m)\u001b[0m\u001b[1;33m\u001b[0m\u001b[1;33m\u001b[0m\u001b[0m\n\u001b[0;32m      3\u001b[0m \u001b[1;33m\u001b[0m\u001b[0m\n\u001b[1;32m----> 4\u001b[1;33m \u001b[0mb\u001b[0m \u001b[1;33m=\u001b[0m \u001b[0ma\u001b[0m\u001b[1;33m.\u001b[0m\u001b[0mreshape\u001b[0m\u001b[1;33m(\u001b[0m\u001b[1;36m3\u001b[0m\u001b[1;33m,\u001b[0m\u001b[1;36m3\u001b[0m\u001b[1;33m)\u001b[0m \u001b[1;31m# 순서가 중요함!!!\u001b[0m\u001b[1;33m\u001b[0m\u001b[1;33m\u001b[0m\u001b[0m\n\u001b[0m\u001b[0;32m      5\u001b[0m \u001b[0mprint\u001b[0m\u001b[1;33m(\u001b[0m\u001b[0mb\u001b[0m\u001b[1;33m)\u001b[0m\u001b[1;33m\u001b[0m\u001b[1;33m\u001b[0m\u001b[0m\n",
      "\u001b[1;31mValueError\u001b[0m: cannot reshape array of size 10 into shape (3,3)"
     ]
    }
   ],
   "source": [
    "a = np.arange(0,10)\n",
    "print(a)\n",
    "\n",
    "b = a.reshape(2,5) # 순서가 중요함!\n",
    "print(b)"
   ]
  },
  {
   "cell_type": "code",
   "execution_count": 44,
   "id": "6f3aea8d",
   "metadata": {},
   "outputs": [
    {
     "name": "stdout",
     "output_type": "stream",
     "text": [
      "[[  0   1]\n",
      " [  2   3]\n",
      " [  4 100]\n",
      " [  6   7]\n",
      " [  8   9]]\n",
      "[0 1]\n",
      "[0 2 4 6 8]\n",
      "[6 7]\n"
     ]
    }
   ],
   "source": [
    "# b[행,열]\n",
    "print(b)\n",
    "print(b[0,:]) # b의 0행(=첫번째행), 열은 전부다\n",
    "print(b[:,0]) # b의 1열(=두번째열), 행은 전부다\n",
    "\n",
    "print(b[3,:]) # b의 3행(=네번째행), 열 전부다"
   ]
  },
  {
   "cell_type": "code",
   "execution_count": 60,
   "id": "2c5d2d35",
   "metadata": {},
   "outputs": [
    {
     "name": "stdout",
     "output_type": "stream",
     "text": [
      "[[ 0  1  2]\n",
      " [ 3  4  5]\n",
      " [ 6  7  8]\n",
      " [ 9 10 11]]\n",
      "[[4]\n",
      " [7]]\n",
      "[2 5]\n"
     ]
    }
   ],
   "source": [
    "c = np.arange(0,12)\n",
    "c = c.reshape(4,3)\n",
    "print(c)\n",
    "\n",
    "# : = 맨처음부터, 맨끝까지(포함o)\n",
    "# (시작하는 지점, 이상):(끝지점, 포함x, 미만)\n",
    "# 0부터 시작, 첫번째행 = 0, 첫번째열 = 0\n",
    "\n",
    "# print(c[0,:]) # 첫번째 행, 열은 전부다\n",
    "# print(c[0,1:]) # c[첫번째행, 두번째열부터~끝까지]\n",
    "# print(c[2:,1]) # c[세번째행부터~끝행까지, 두번째열]\n",
    "\n",
    "# print(c[:2,1]) # c[첫번째행부터~세번째행까지(끝 포함x), 두번째열]\n",
    "# print(c[1:3,2:]) # 두번째행부터~네번째행까지(끝 포함x), 세번째열부터~마지막열까지\n",
    "\n",
    "print(c[-1,-1]) # -1 = 뒤에서 첫번째 = 맨끝, -2 = 뒤에서 두번째\n",
    "print(c[-2,-2])\n",
    "print(c[-3,-2])\n",
    "print(c[-4,-3])\n",
    "\n",
    "print(c[1:-1,1:-1]) # 두번째행부터~마지막행까지(포함x), 두번째열부터~마지막열까지(포함x)\n",
    "print(c[0:-2,2]) # 첫번째행부터~뒤에서두번째행까지(포함x) = 0행~2행(포함x) = 0행~1행, 세번째열"
   ]
  }
 ],
 "metadata": {
  "kernelspec": {
   "display_name": "Python 3",
   "language": "python",
   "name": "python3"
  },
  "language_info": {
   "codemirror_mode": {
    "name": "ipython",
    "version": 3
   },
   "file_extension": ".py",
   "mimetype": "text/x-python",
   "name": "python",
   "nbconvert_exporter": "python",
   "pygments_lexer": "ipython3",
   "version": "3.8.8"
  }
 },
 "nbformat": 4,
 "nbformat_minor": 5
}
